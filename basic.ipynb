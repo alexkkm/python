{
 "cells": [
  {
   "cell_type": "markdown",
   "metadata": {},
   "source": [
    "# Python 基礎語法"
   ]
  },
  {
   "cell_type": "markdown",
   "metadata": {},
   "source": [
    "## Python 標識符\n",
    "\n",
    "在 Python 里，標識符由字母、數字、下劃線組成。\n",
    "在 Python 中，所有標識符可以包括英文、數字以及下劃線(_)，但不能以數字開頭。\n",
    "\n",
    "Python 中的標識符是區分大小寫的。\n",
    "\n",
    "以下劃線開頭的標識符是有特殊意義的。以單下劃線開頭 _foo 的代表不能直接訪問的類屬性，需通過類提供的介面進行訪問，不能用 from xxx import * 而導入。  \n",
    "以雙下劃線(\\_\\_)開頭的 \\_\\_foo 代表類的私有成員，以雙下劃線開頭和結尾的 \\_\\_foo\\_\\_ 代表 Python 里特殊方法專用的標識，如 \\_\\_init\\_\\_() 代表類的構造函數。"
   ]
  },
  {
   "cell_type": "markdown",
   "metadata": {},
   "source": [
    "Python 可以同一行顯示多條語句，方法是用分號 ; 分開，如："
   ]
  },
  {
   "cell_type": "code",
   "execution_count": 23,
   "metadata": {},
   "outputs": [
    {
     "name": "stdout",
     "output_type": "stream",
     "text": [
      "hello\n",
      "runoob\n"
     ]
    }
   ],
   "source": [
    "print ('hello');print ('runoob')"
   ]
  },
  {
   "cell_type": "markdown",
   "metadata": {},
   "source": [
    "亦可以分行顯示多條語句:"
   ]
  },
  {
   "cell_type": "code",
   "execution_count": 24,
   "metadata": {},
   "outputs": [
    {
     "name": "stdout",
     "output_type": "stream",
     "text": [
      "hello\n",
      "runoob\n"
     ]
    }
   ],
   "source": [
    "print('hello')\n",
    "print('runoob')"
   ]
  },
  {
   "cell_type": "markdown",
   "metadata": {},
   "source": [
    "## 行和縮進\n",
    "\n",
    "學習 Python 與其他語言最大的區別就是，Python 的代碼塊不使用大括號 {} 來控制類，函數以及其他邏輯判斷。  \n",
    "Python 最具特色的就是用縮進來寫模塊。  \n",
    "縮進的空白數量是可變的，但是所有代碼塊語句必須包含相同的縮進空白數量，這個必須嚴格執行。\n",
    "\n",
    "以下實例縮進為四個空格:"
   ]
  },
  {
   "cell_type": "code",
   "execution_count": 25,
   "metadata": {},
   "outputs": [
    {
     "name": "stdout",
     "output_type": "stream",
     "text": [
      "True\n"
     ]
    }
   ],
   "source": [
    "if True:\n",
    "    print (\"True\")\n",
    "else:\n",
    "    print (\"False\")"
   ]
  },
  {
   "cell_type": "markdown",
   "metadata": {},
   "source": [
    "以下代碼將會執行錯誤："
   ]
  },
  {
   "cell_type": "code",
   "execution_count": 27,
   "metadata": {},
   "outputs": [
    {
     "ename": "IndentationError",
     "evalue": "unindent does not match any outer indentation level (<tokenize>, line 7)",
     "output_type": "error",
     "traceback": [
      "\u001b[1;36m  File \u001b[1;32m<tokenize>:7\u001b[1;36m\u001b[0m\n\u001b[1;33m    print (\"False\")\u001b[0m\n\u001b[1;37m    ^\u001b[0m\n\u001b[1;31mIndentationError\u001b[0m\u001b[1;31m:\u001b[0m unindent does not match any outer indentation level\n"
     ]
    }
   ],
   "source": [
    "if True:\n",
    "    print (\"Answer\")\n",
    "    print (\"True\")\n",
    "else:\n",
    "    print (\"Answer\")\n",
    "    # 沒有嚴格縮進，在執行時會報錯\n",
    "  print (\"False\")"
   ]
  },
  {
   "cell_type": "markdown",
   "metadata": {},
   "source": [
    "## 多行語句\n",
    "\n",
    "Python語句中一般以新行作為語句的結束符。\n",
    "\n",
    "但是我們可以使用斜杠（ \\）將一行的語句分為多行顯示，如下所示："
   ]
  },
  {
   "cell_type": "code",
   "execution_count": null,
   "metadata": {},
   "outputs": [
    {
     "name": "stdout",
     "output_type": "stream",
     "text": [
      "6\n"
     ]
    }
   ],
   "source": [
    "total = 1 + \\\n",
    "        2 + \\\n",
    "        3\n",
    "print(total)"
   ]
  },
  {
   "cell_type": "markdown",
   "metadata": {},
   "source": [
    "語句中包含 [], {} 或 () 括號就不需要使用多行連接符。如下實例："
   ]
  },
  {
   "cell_type": "code",
   "execution_count": null,
   "metadata": {},
   "outputs": [],
   "source": [
    "days = ['Monday', 'Tuesday', 'Wednesday',\n",
    "        'Thursday', 'Friday']"
   ]
  },
  {
   "cell_type": "markdown",
   "metadata": {},
   "source": [
    "## Python 引號  \n",
    "Python 可以使用引號( ' )、雙引號( \" )、三引號( ''' 或 \"\"\" ) 來表示字元串，引號的開始與結束必須是相同類型的。\n",
    "\n",
    "其中三引號可以由多行組成，編寫多行文本的快捷語法，常用於文檔字元串，在文件的特定地點，被當做註釋。"
   ]
  },
  {
   "cell_type": "code",
   "execution_count": null,
   "metadata": {},
   "outputs": [],
   "source": [
    "word = 'word'\n",
    "sentence = \"這是一個句子。\"\n",
    "paragraph = \"\"\"這是一個段落。\n",
    "包含了多個語句\"\"\""
   ]
  },
  {
   "cell_type": "markdown",
   "metadata": {},
   "source": [
    "## Python註釋\n",
    "python中單行註釋採用 # 開頭。"
   ]
  },
  {
   "cell_type": "code",
   "execution_count": null,
   "metadata": {},
   "outputs": [
    {
     "name": "stdout",
     "output_type": "stream",
     "text": [
      "Hello, Python!\n"
     ]
    }
   ],
   "source": [
    "# 第一個註釋\n",
    "print(\"Hello, Python!\") # 第二個註釋"
   ]
  },
  {
   "cell_type": "markdown",
   "metadata": {},
   "source": [
    "註釋可以在語句或表示式行末："
   ]
  },
  {
   "cell_type": "code",
   "execution_count": null,
   "metadata": {},
   "outputs": [],
   "source": [
    "name = \"Runoob\" # 這里的內容是一個註釋"
   ]
  },
  {
   "cell_type": "markdown",
   "metadata": {},
   "source": [
    "python 中多行註釋使用三個單引號 ''' 或三個雙引號 \"\"\" 。"
   ]
  },
  {
   "cell_type": "code",
   "execution_count": null,
   "metadata": {},
   "outputs": [
    {
     "data": {
      "text/plain": [
       "'\\n這是多行註釋，使用雙引號。\\n這是多行註釋，使用雙引號。\\n這是多行註釋，使用雙引號。\\n'"
      ]
     },
     "execution_count": 10,
     "metadata": {},
     "output_type": "execute_result"
    }
   ],
   "source": [
    "'''\n",
    "這是多行註釋， 使用單引號。\n",
    "這是多行註釋，使用單引號。\n",
    "這是多行註釋，使用單引號。\n",
    "'''\n",
    "\n",
    "\"\"\"\n",
    "這是多行註釋，使用雙引號。\n",
    "這是多行註釋，使用雙引號。\n",
    "這是多行註釋，使用雙引號。\n",
    "\"\"\""
   ]
  },
  {
   "cell_type": "markdown",
   "metadata": {},
   "source": [
    "## Python空行\n",
    "函數之間或類的方法之間用空行分隔，表示一段新的代碼的開始。 類和函數入口之間也用一行空行分隔，以突出函數入口的開始。\n",
    "\n",
    "空行與代碼縮進不同，空行並不是Python語法的一部分。 書寫時不插入空行，Python解釋器運行也不會出錯。 但是空行的作用在於分隔兩段不同功能或含義的代碼，便於日後代碼的維護或重構。\n",
    "\n",
    "記住：空行也是程序代碼的一部分。"
   ]
  },
  {
   "cell_type": "markdown",
   "metadata": {},
   "source": [
    "## print 輸出\n",
    "print 預設輸出是換行的，如果要實現不換行需要在變數末尾加上逗號 ， "
   ]
  },
  {
   "cell_type": "code",
   "execution_count": null,
   "metadata": {},
   "outputs": [
    {
     "name": "stdout",
     "output_type": "stream",
     "text": [
      "a\n",
      "b\n",
      "---------\n",
      "a b\n"
     ]
    }
   ],
   "source": [
    "x=\"a\"\n",
    "y=\"b\"\n",
    "\n",
    "# 換行輸出\n",
    "print(x)\n",
    "print(y)\n",
    "print('---------')\n",
    "# 不換行輸出\n",
    "print(x,y)"
   ]
  },
  {
   "cell_type": "markdown",
   "metadata": {},
   "source": [
    "## 代碼組\n",
    "\n",
    "縮進相同的一組語句構成一個代碼塊，我們稱之代碼組。\n",
    "\n",
    "像if、while、def和class這樣的複合語句，首行以關鍵字開始，以冒號（ ： ）結束，該行之後的一行或多行代碼構成代碼組。\n",
    "\n",
    "我們將首行及後面的代碼組稱為一個子句（clause）。\n",
    "\n",
    "如下實例："
   ]
  },
  {
   "cell_type": "code",
   "execution_count": null,
   "metadata": {},
   "outputs": [
    {
     "name": "stdout",
     "output_type": "stream",
     "text": [
      "b is bigger\n"
     ]
    }
   ],
   "source": [
    "from random import random\n",
    "\n",
    "a=random()\n",
    "b=random()\n",
    "\n",
    "if a>b:\n",
    "    print(\"a is bigger\")\n",
    "elif b>a:\n",
    "    print(\"b is bigger\")\n",
    "else:\n",
    "    print(\"same\")"
   ]
  }
 ],
 "metadata": {
  "kernelspec": {
   "display_name": "Python 3.10.5 64-bit",
   "language": "python",
   "name": "python3"
  },
  "language_info": {
   "codemirror_mode": {
    "name": "ipython",
    "version": 3
   },
   "file_extension": ".py",
   "mimetype": "text/x-python",
   "name": "python",
   "nbconvert_exporter": "python",
   "pygments_lexer": "ipython3",
   "version": "3.10.5"
  },
  "orig_nbformat": 4,
  "vscode": {
   "interpreter": {
    "hash": "2131068c6602f9a2430d453783c1149b47516f746aa067996ffda6dc716d949b"
   }
  }
 },
 "nbformat": 4,
 "nbformat_minor": 2
}
