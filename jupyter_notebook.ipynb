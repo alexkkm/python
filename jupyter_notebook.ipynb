{
 "cells": [
  {
   "cell_type": "markdown",
   "metadata": {},
   "source": [
    "# Python Jupyter Notebook 使用教學\n"
   ]
  },
  {
   "cell_type": "markdown",
   "metadata": {},
   "source": [
    "## 簡介 Jupyter Notebook\n",
    "- 是一個寫程式的工具\n",
    "- 逐行執行並且做到資料視覺化\n",
    "- 由於其逐行執行的特性，適合 Python 初學者從中了解程式邏輯"
   ]
  },
  {
   "cell_type": "markdown",
   "metadata": {},
   "source": [
    "## Jupyter Notebook 功能介紹\n",
    "進入撰寫程式碼的頁面後，會看到一個格子，裡面可以輸入程式碼:"
   ]
  },
  {
   "cell_type": "code",
   "execution_count": null,
   "metadata": {},
   "outputs": [],
   "source": []
  },
  {
   "cell_type": "markdown",
   "metadata": {},
   "source": [
    "在 Jupyter Notebook 中稱它為一個 Cell，一支程式可以存在多個 Cell，每個 Cell 都是可以執行的區塊"
   ]
  },
  {
   "cell_type": "markdown",
   "metadata": {},
   "source": [
    "## 單元（Cells）\n",
    "首先介紹的是 ，一個 就是上圖中方框部分，它是 notebook 的主要部分，通常有兩種主要的單元:  \n",
    "\n",
    "- code cell ：包括需要執行的代碼，以及其運行結果\n",
    "- Markdown cell ：包含的是 Markdown 格式的文字並且其執行結果"
   ]
  },
  {
   "cell_type": "markdown",
   "metadata": {},
   "source": [
    "可以注意到cells的左側會有一個標籤，這裡的數位表示該代碼塊運行的次序。"
   ]
  },
  {
   "cell_type": "markdown",
   "metadata": {},
   "source": [
    "## Markdown"
   ]
  },
  {
   "cell_type": "markdown",
   "metadata": {},
   "source": [
    "Markdown 是一個輕量級的易於學習使用的標記語言，主要用於格式化文本文字。 它的語法類似 HTML 語言，是一個非常有幫助的語言，可以用於添加註釋說明或者添加圖片。"
   ]
  },
  {
   "cell_type": "markdown",
   "metadata": {},
   "source": [
    "```\n",
    "# This is a level 1 heading\n",
    "## This is a level 2 heading\n",
    "This is some plain text that forms a paragraph.\n",
    "Add emphasis via **bold** and __bold__, or *italic* and _italic_.\n",
    "Paragraphs must be separated by an empty line.\n",
    "* Sometimes we want to include lists.\n",
    "* Which can be indented.\n",
    "1. Lists can also be numbered.\n",
    "2. For ordered lists.\n",
    "[It is possible to include hyperlinks](https://www.example.com)\n",
    "Inline code uses single backticks: `foo()`, and code blocks use triple backticks:\n",
    "​```\n",
    "bar()\n",
    "​```\n",
    "Or can be indented by 4 spaces:\n",
    "foo()\n",
    "And finally, adding images is easy: ![Alt text](https://www.example.com/image.jpg)\n",
    "```"
   ]
  },
  {
   "cell_type": "markdown",
   "metadata": {},
   "source": [
    "得到的結果如下圖所示："
   ]
  },
  {
   "cell_type": "markdown",
   "metadata": {},
   "source": [
    "# This is a level 1 heading\n",
    "## This is a level 2 heading\n",
    "This is some plain text that forms a paragraph.\n",
    "Add emphasis via **bold** and __bold__, or *italic* and _italic_.\n",
    "Paragraphs must be separated by an empty line.\n",
    "* Sometimes we want to include lists.\n",
    "* Which can be indented.\n",
    "1. Lists can also be numbered.\n",
    "2. For ordered lists.\n",
    "[It is possible to include hyperlinks](https://www.example.com)\n",
    "Inline code uses single backticks: `foo()`, and code blocks use triple backticks:\n",
    "​```\n",
    "bar()\n",
    "​```\n",
    "Or can be indented by 4 spaces:\n",
    "foo()\n",
    "And finally, adding images is easy: ![Alt text](https://www.example.com/image.jpg)"
   ]
  },
  {
   "cell_type": "markdown",
   "metadata": {},
   "source": [
    "如果想添加圖片，有三種做法：\n",
    "\n",
    "使用網路上的圖片，添加其網路連結 URL，比如上述例子就是這種做法，URL 是 https://www.example.com/image.jpg  \n",
    "採用一個本地 URL，那麼圖片就只能使用在該 notebook 中，比如在同一個 git 倉庫中  \n",
    "功能表欄選擇 「Edit->Insert Image」，這種做法會將圖片轉換為字串形式並存儲在檔中，這種做法會增加檔的大小.ipynbipynb  "
   ]
  }
 ],
 "metadata": {
  "kernelspec": {
   "display_name": "Python 3.10.5 64-bit",
   "language": "python",
   "name": "python3"
  },
  "language_info": {
   "name": "python",
   "version": "3.10.5"
  },
  "orig_nbformat": 4,
  "vscode": {
   "interpreter": {
    "hash": "2131068c6602f9a2430d453783c1149b47516f746aa067996ffda6dc716d949b"
   }
  }
 },
 "nbformat": 4,
 "nbformat_minor": 2
}
