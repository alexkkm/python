{
 "cells": [
  {
   "cell_type": "markdown",
   "metadata": {},
   "source": [
    "# Python 運算符"
   ]
  },
  {
   "cell_type": "markdown",
   "metadata": {},
   "source": [
    "## 運算符\n",
    "本章節主要說明Python的運算符。 舉個簡單的例子 4 +5 = 9 。 例子中，4 和 5 被稱為操作數，+ 稱為運算符。\n",
    "\n",
    "Python語言支援以下類型的運算子:,c\n",
    "\n",
    "- 算術運算子\n",
    "- 比較（關係）運算符\n",
    "- 賦值運算子\n",
    "- 邏輯運算子\n",
    "- 位運算元\n",
    "- 成員運算子\n",
    "- 身份運算子\n",
    "- 運算元優先順序\n",
    "- 接下來讓我們一個個來學習Python的運算符。"
   ]
  },
  {
   "cell_type": "markdown",
   "metadata": {},
   "source": [
    "### Python算術運算符\n",
    "\n",
    "|運算子|描述|實例|\n",
    "|:--|:--|:--|\n",
    "|+|\t加: 兩個物件相加|\ta + b 輸出結果 30|\n",
    "|-|\t減: 得到負數或是一個數減去另一個數|\ta - b 輸出結果 -10|\n",
    "|*|\t乘: 兩個數相乘或是返回一個被重複若干次的字串|\ta * b 輸出結果 200|\n",
    "|/|\t除: x除以y|\tb / a 輸出結果 2|\n",
    "|%|\t取模: 返回除法的餘數|\tb % a 輸出結果 0|\n",
    "|\\**|\t冪: 返回x的y次冪|\ta**b 為10的5次方， 輸出結果 10000|\n",
    "|//|\t取整除: 傳回商的整數部分（向下取整）|9//2 輸出結果 4|\t"
   ]
  },
  {
   "cell_type": "code",
   "execution_count": 1,
   "metadata": {},
   "outputs": [
    {
     "name": "stdout",
     "output_type": "stream",
     "text": [
      "1. c的值為: 31\n",
      "2. c的值為: 11\n",
      "3. c的值為: 210\n",
      "4. c的值為: 2.1\n",
      "5. c的值為: 1\n",
      "6. c的值為: 8\n",
      "7. c的值為: 2\n"
     ]
    }
   ],
   "source": [
    "a = 21\n",
    "b = 10\n",
    "c = 0\n",
    " \n",
    "c = a+b\n",
    "print(\"1. c的值為:\",c)\n",
    " \n",
    "c = a-b\n",
    "print(\"2. c的值為:\",c)\n",
    " \n",
    "c = a*b\n",
    "print(\"3. c的值為:\",c)\n",
    " \n",
    "c = a/b\n",
    "print(\"4. c的值為:\",c)\n",
    " \n",
    "c = a%b\n",
    "print(\"5. c的值為:\",c)\n",
    " \n",
    "# 修改變量 a 、b 、c\n",
    "a = 2\n",
    "b = 3\n",
    "c = a**b \n",
    "print(\"6. c的值為:\",c)\n",
    " \n",
    "a = 10\n",
    "b = 5\n",
    "c = a//b \n",
    "print(\"7. c的值為:\",c)"
   ]
  },
  {
   "cell_type": "markdown",
   "metadata": {},
   "source": [
    "### Python比較運算符\n",
    "\n",
    "以下假設變數a為10，變數b為20：\n",
    "\n",
    "|運算子|\t描述|\t實例|\n",
    "|:--|:--|:--|\n",
    "|==|\t等於: 比較物件是否相等|\t（a == b） 傳回 False。|\n",
    "|!=|\t不等於: 比較兩個物件是否不相等|\t（a ！= b） 傳回 True。|\n",
    "|>|\t大於: 返回x是否大於y|\t（a > b） 傳回 False。|\n",
    "|<|\t小於: 返回x是否小於y。  所有比較運算符返回1表示真，返回0表示假。  這分別與特殊的變數 True 和 False 等價。  |\t（a < b） 傳回 True。|\n",
    "|>=|\t大於等於: 返回x是否大於等於y。|\t（a >= b） 傳回 False。|\n",
    "|<=|\t小於等於: 返回x是否小於等於y。|\t（a <= b） 傳回 True。|"
   ]
  },
  {
   "cell_type": "code",
   "execution_count": 2,
   "metadata": {},
   "outputs": [
    {
     "name": "stdout",
     "output_type": "stream",
     "text": [
      "1. a 不等於 b\n",
      "2. a 不等於 b\n",
      "3. a 大於等於 b\n",
      "4. a 大於 b\n",
      "5. a 小於等於 b\n",
      "6. b 大於等於 a\n"
     ]
    }
   ],
   "source": [
    "a = 21\n",
    "b = 10\n",
    "c = 0\n",
    " \n",
    "if  a == b :\n",
    "   print(\"1. a 等於 b\")\n",
    "else:\n",
    "   print(\"1. a 不等於 b\")\n",
    " \n",
    "if  a != b :\n",
    "   print(\"2. a 不等於 b\")\n",
    "else:\n",
    "   print(\"2. a 等於 b\")\n",
    " \n",
    "if  a < b :\n",
    "   print(\"3. a 小於 b\")\n",
    "else:\n",
    "   print(\"3. a 大於等於 b\")\n",
    " \n",
    "if  a > b :\n",
    "   print(\"4. a 大於 b\")\n",
    "else:\n",
    "   print(\"4. a 小於等於 b\")\n",
    " \n",
    "# 修改變量 a 和 b 的值\n",
    "a = 5\n",
    "b = 20\n",
    "if  a <= b :\n",
    "   print(\"5. a 小於等於 b\")\n",
    "else:\n",
    "   print(\"5. a 大於  b\")\n",
    " \n",
    "if  b >= a :\n",
    "   print(\"6. b 大於等於 a\")\n",
    "else:\n",
    "   print(\"6. b 小於 a\")"
   ]
  },
  {
   "cell_type": "markdown",
   "metadata": {},
   "source": [
    "### Python賦值運算符\n",
    "\n",
    "以下假設變數a為10，變數b為20：\n",
    "\n",
    "|運算子|\t描述|\t實例|\n",
    "|:--|:--|:--|\n",
    "|=|\t簡單的賦值運算子|\tc = a + b 將 a + b 的運算結果賦值為 c|\n",
    "|+=|\t加法賦值運算子|\tc += a 等效於 c = c + a|\n",
    "|-=|\t減法賦值運算子|\tc -= a 等效於 c = c - a|\n",
    "|*=|\t乘法賦值運算子|\tc *= a 等效於 c = c * a|\n",
    "|/=|\t除法賦值運算子|\tc /= a 等效於 c = c / a|\n",
    "|%=|\t取模賦值運算子|\tc %= a 等效於 c = c % a|\n",
    "|**=|\t冪賦值運算子|\tc **= a 等效於 c = c ** a|\n",
    "|//=|\t取整除賦值運算子|\tc //= a 等效於 c = c // a|"
   ]
  },
  {
   "cell_type": "code",
   "execution_count": 3,
   "metadata": {},
   "outputs": [
    {
     "name": "stdout",
     "output_type": "stream",
     "text": [
      "1. c 的值為： 31\n",
      "2. c 的值為： 52\n",
      "3. c 的值為： 1092\n",
      "4. c 的值為： 52.0\n",
      "5. c 的值為： 2\n",
      "6. c 的值為： 2097152\n",
      "7. c 的值為： 99864\n"
     ]
    }
   ],
   "source": [
    "a = 21\n",
    "b = 10\n",
    "c = 0\n",
    " \n",
    "c = a + b\n",
    "print(\"1. c 的值為：\", c)\n",
    " \n",
    "c += a\n",
    "print(\"2. c 的值為：\", c)\n",
    " \n",
    "c *= a\n",
    "print(\"3. c 的值為：\", c)\n",
    " \n",
    "c /= a \n",
    "print(\"4. c 的值為：\", c)\n",
    " \n",
    "c = 2\n",
    "c %= a\n",
    "print(\"5. c 的值為：\", c)\n",
    " \n",
    "c **= a\n",
    "print(\"6. c 的值為：\", c)\n",
    " \n",
    "c //= a\n",
    "print(\"7. c 的值為：\", c)"
   ]
  },
  {
   "cell_type": "markdown",
   "metadata": {},
   "source": [
    "### Python邏輯運算符\n",
    "\n",
    "Python語言支援邏輯運算符，以下假設變數 a 為 10， b為 20：\n",
    "\n",
    "|運算子|邏輯表達式|描述|實例|\n",
    "|:--|:--|:--|:--|\n",
    "|and|x and y|布爾“與”: 如果 x 為 False，x and y 返回 False，否則它返回 y 的計算值。|（a and b） 傳回 20。|\n",
    "|or|x or y|布爾“或”: 如果 x 是非 0，它返回 x 的計算值，否則它返回 y 的計算值。|（a or b） 傳回 10。|\n",
    "|not|not x|布林“非”: 如果 x 為 True，返回 False。如果 x 為 False，它返回 True。|not（a and b） 傳回 False|\n"
   ]
  },
  {
   "cell_type": "markdown",
   "metadata": {},
   "source": [
    "### Python成員運算符\n",
    "\n",
    "除了以上的一些運算符之外，Python還支持成員運算符，測試實例中包含了一系列的成員，包括字串，清單或元組。\n",
    "\n",
    "|運算子|描述|實例|\n",
    "|:--|:--|:--|\n",
    "|in|如果在指定的序列中找到值返回 True，否則返回 False。|x 在 y 序列中 ， 如果 x 在 y 序列中傳回 True。|\n",
    "|not in|如果在指定的序列中沒有找到值返回 True，否則返回 False。|x 不在 y 序列中 ， 如果 x 不在 y 序列中傳回 True。|"
   ]
  },
  {
   "cell_type": "markdown",
   "metadata": {},
   "source": [
    "### Python身份運算符\n",
    "\n",
    "身份運算子用於比較兩個物件的存儲單元\n",
    "\n",
    "|運算子|\t描述|\t實例|\n",
    "|:--|:--|:--|\n",
    "|is|\tis 是判斷兩個標識元是不是引用自一個物件\t|x is y， 類似 id（x） == id（y） ， 如果引用的是同一個物件則返回 True，否則返回 False|\n",
    "|is not|\tis not 是判斷兩個標識碼是不是引用自不同物件\t|x is not y ， 類似 id（a） ！= id（b）。 如果引用的不是同一個物件則返回結果 True，否則返回 False。|\n",
    "\n",
    "**注： id（） 函數用於獲取物件記憶體位址。**"
   ]
  },
  {
   "cell_type": "markdown",
   "metadata": {},
   "source": [
    "## Python運算符優先順序\n",
    "\n",
    "以下表格列出了從最高到最低優先順序的所有運算子：\n",
    "\n",
    "|運算子|描述|\n",
    "|:--|:--|\n",
    "|**|指數 （最高優先順序）|\n",
    "|~ + -|按位翻轉， 一元加號和減號 （最後兩個的方法名為 +@ 和 -@）|\n",
    "|* / % //|乘，除，取模和取整除|\n",
    "|+ -|加法減法|\n",
    "|>> <<|右移，左移運算符|\n",
    "|&\t|位 'AND'|\n",
    "|^ \\||位運算元|\n",
    "|<= < > >=|比較運算子|\n",
    "|<> == !=|等於運算子|\n",
    "|= %= /= //= -= += *= **=|賦值運算子|\n",
    "|is is not|身份運算子|\n",
    "|in not in|成員運算子|\n",
    "|not and or|邏輯運算子|"
   ]
  }
 ],
 "metadata": {
  "kernelspec": {
   "display_name": "Python 3.10.5 64-bit",
   "language": "python",
   "name": "python3"
  },
  "language_info": {
   "codemirror_mode": {
    "name": "ipython",
    "version": 3
   },
   "file_extension": ".py",
   "mimetype": "text/x-python",
   "name": "python",
   "nbconvert_exporter": "python",
   "pygments_lexer": "ipython3",
   "version": "3.10.5"
  },
  "orig_nbformat": 4,
  "vscode": {
   "interpreter": {
    "hash": "2131068c6602f9a2430d453783c1149b47516f746aa067996ffda6dc716d949b"
   }
  }
 },
 "nbformat": 4,
 "nbformat_minor": 2
}
