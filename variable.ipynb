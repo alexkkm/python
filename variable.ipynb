{
 "cells": [
  {
   "cell_type": "markdown",
   "metadata": {},
   "source": [
    "# Python 變數類型\n",
    "變數是存儲在記憶體中的值，這就意味著在創建變數時會在記憶體中開闢一個空間。\n",
    "\n",
    "基於變數的數據類型，解釋器會分配指定記憶體，並決定什麼數據可以被存儲在記憶體中。\n",
    "\n",
    "因此，變數可以指定不同的數據類型，這些變數可以存儲整數，小數或字元。\n"
   ]
  },
  {
   "cell_type": "markdown",
   "metadata": {},
   "source": [
    "## 變數賦值\n",
    "Python 中的變數賦值不需要類型聲明。\n",
    "\n",
    "每個變數在記憶體中創建，都包括變數的標識，名稱和數據這些資訊。\n",
    "\n",
    "每個變數在使用前都必須賦值，變數賦值以後該變數才會被創建。\n",
    "\n",
    "等號 = 用來給變數賦值。\n",
    "\n",
    "等號 = 運算子左邊是一個變數名，等號 = 運算子右邊是存儲在變數中的值。 例如："
   ]
  },
  {
   "cell_type": "code",
   "execution_count": null,
   "metadata": {},
   "outputs": [],
   "source": [
    "counter=100\n",
    "miles=1000.0\n",
    "name=\"John\"\n",
    "\n",
    "print(counter)\n",
    "print(miles)\n",
    "print(name)"
   ]
  },
  {
   "cell_type": "markdown",
   "metadata": {},
   "source": [
    "## 多個變數賦值\n",
    "Python允許你同時為多個變數賦值。 例如："
   ]
  },
  {
   "cell_type": "code",
   "execution_count": null,
   "metadata": {},
   "outputs": [],
   "source": [
    "a = b = c = 1"
   ]
  },
  {
   "cell_type": "markdown",
   "metadata": {},
   "source": [
    "以上實例，創建一個整型物件，值為1，三個變數被分配到相同的記憶體空間上。\n",
    "\n",
    "您也可以為多個物件指定多個變數。 例如："
   ]
  },
  {
   "cell_type": "code",
   "execution_count": null,
   "metadata": {},
   "outputs": [],
   "source": [
    "a, b, c = 1, 2, \"John\""
   ]
  },
  {
   "cell_type": "markdown",
   "metadata": {},
   "source": [
    "以上實例，兩個整型物件 1 和 2 分別分配給變數 a 和 b，字串物件 “john” 分配給變數 c。"
   ]
  },
  {
   "cell_type": "markdown",
   "metadata": {},
   "source": [
    "## 標準數據類型\n",
    "在記憶體中存儲的數據可以有多種類型。\n",
    "\n",
    "Python 定義了一些標準類型，用於存儲各種類型的數據。\n",
    "\n",
    "Python有五個標準的數據類型：\n",
    "\n",
    "- Numbers（數位）\n",
    "- String（字串）\n",
    "- List（清單）\n",
    "- Tuple（元組）\n",
    "- Dictionary（字典）"
   ]
  },
  {
   "cell_type": "markdown",
   "metadata": {},
   "source": [
    "### Python 數位\n",
    "數位數據類型用於儲存數值。\n",
    "\n",
    "他們是不可改變的數據類型，這意味著改變數位數據類型會分配一個新的物件。\n",
    "\n",
    "當你指定一個值時，Number 物件就會被創建："
   ]
  },
  {
   "cell_type": "code",
   "execution_count": null,
   "metadata": {},
   "outputs": [],
   "source": [
    "var1 = 1\n",
    "var2 = 10"
   ]
  },
  {
   "cell_type": "markdown",
   "metadata": {},
   "source": [
    "Python支援四種不同的數字類型：\n",
    "\n",
    "int（有符號整型）  \n",
    "long（長整型，也可以代表八進位和十六進位）  \n",
    "float（浮點型）  \n",
    "complex（複數）  "
   ]
  },
  {
   "cell_type": "markdown",
   "metadata": {},
   "source": [
    "### Python字串\n",
    "\n",
    "字串或串（String）是由數位、字母、下劃線組成的一串字元。\n",
    "\n",
    "它是程式設計語言中表示文本的數據類型。\n",
    "\n",
    "python的字串列表有2種取值順序：\n",
    "\n",
    "從左到右索引預設0開始的，最大範圍是字串長度少1  \n",
    "從右到左索引預設-1開始的，最大範圍是字串開頭  \n",
    "\n",
    "\n",
    "如果你要實現從字串中獲取一段子字串的話，可以使用 [頭下標：尾下標] 來截取相應的字串，其中下標是從 0 開始算起，可以是正數或負數，下標可以為空表示取到頭或尾。  \n",
    "[頭下標：尾下標] 獲取的子字串包含頭下標的字元，但不包含尾下標的字元。  \n",
    "比如："
   ]
  },
  {
   "cell_type": "code",
   "execution_count": null,
   "metadata": {},
   "outputs": [],
   "source": [
    "s = 'abcdef'\n",
    "print(s[1:5])"
   ]
  },
  {
   "cell_type": "markdown",
   "metadata": {},
   "source": [
    "當使用以冒號分隔的字串，python 返回一個新的物件，結果包含了以這對偏移標識的連續的內容，左邊的開始是包含了下邊界。\n",
    "\n",
    "上面的結果包含了 s[1] 的值 b，而取到的最大範圍不包括尾下標，就是 **s[5]** 的值 f。"
   ]
  },
  {
   "cell_type": "markdown",
   "metadata": {},
   "source": [
    "加號（+）是字串連接運算符，星號（*）是重複操作。 如下實例："
   ]
  },
  {
   "cell_type": "code",
   "execution_count": 1,
   "metadata": {},
   "outputs": [
    {
     "name": "stdout",
     "output_type": "stream",
     "text": [
      "Hello World! \n",
      "H\n",
      "llo\n",
      "llo World! \n",
      "Hello World! Hello World! \n",
      "Hello World! TEST\n"
     ]
    }
   ],
   "source": [
    "str = 'Hello World! '\n",
    "print (str)         # 輸出完整字串\n",
    "print (str[0])      # 輸出字串中的第一個字元 \n",
    "print (str[2:5])    # 輸出字串中第三個至第六個之間的字串\n",
    "print (str[2:])     # 輸出從第三個字元開始的字串 \n",
    "print (str*2)       # 輸出字串兩次\n",
    "print (str+\"TEST\")  # 輸出連接的字串"
   ]
  },
  {
   "cell_type": "markdown",
   "metadata": {},
   "source": [
    "### Python清單\n",
    "List（清單） 是 Python 中使用最頻繁的數據類型。\n",
    "\n",
    "清單可以完成大多數集合類的數據結構實現。 它支援字元，數位，字串甚至可以包含清單（即嵌套）。\n",
    "\n",
    "清單用 [ ] 標識，是 python 最通用的複合數據類型。\n",
    "\n",
    "清單中值的切割也可以用到變數 [頭下標：尾下標] ，就可以截取相應的清單，從左到右索引預設 0 開始，從右到左索引預設 -1 開始，下標可以為空表示取到頭或尾。"
   ]
  },
  {
   "cell_type": "markdown",
   "metadata": {},
   "source": [
    "加號 + 是清單連接運算子，星號 * 是重複操作。 如下實例："
   ]
  },
  {
   "cell_type": "code",
   "execution_count": 3,
   "metadata": {},
   "outputs": [
    {
     "name": "stdout",
     "output_type": "stream",
     "text": [
      "['runoob', 786, 2.23, 'john', 70.2]\n",
      "runoob\n",
      "[786, 2.23]\n",
      "[2.23, 'john', 70.2]\n",
      "[123, 'john', 123, 'john']\n",
      "['runoob', 786, 2.23, 'john', 70.2, 123, 'john']\n"
     ]
    }
   ],
   "source": [
    "list = [ 'runoob', 786 , 2.23, 'john', 70.2 ]\n",
    "tinylist = [123, 'john']\n",
    " \n",
    "print(list)             # 輸出完整列表\n",
    "print(list[0])          # 輸出列表的第一個元素\n",
    "print(list[1:3])        # 輸出第二個至第三個元素 \n",
    "print(list[2:])         # 輸出從第三個開始至列表末尾的所有元素\n",
    "print(tinylist*2)       # 輸出列表兩次\n",
    "print(list+tinylist)  # 列印組合的列表"
   ]
  },
  {
   "cell_type": "markdown",
   "metadata": {},
   "source": [
    "### Python 元組\n",
    "元組是另一個數據類型，類似於 List（列表）。\n",
    "\n",
    "元組用 () 標識。內部元素用逗號隔開。但是元組不能二次賦值，相當於只讀列表。"
   ]
  },
  {
   "cell_type": "code",
   "execution_count": 4,
   "metadata": {},
   "outputs": [
    {
     "name": "stdout",
     "output_type": "stream",
     "text": [
      "('runoob', 786, 2.23, 'john', 70.2)\n",
      "runoob\n",
      "(786, 2.23)\n",
      "(2.23, 'john', 70.2)\n",
      "(123, 'john', 123, 'john')\n",
      "('runoob', 786, 2.23, 'john', 70.2, 123, 'john')\n"
     ]
    }
   ],
   "source": [
    "tuple = ( 'runoob', 786 , 2.23, 'john', 70.2 )\n",
    "tinytuple = (123, 'john')\n",
    " \n",
    "print(tuple)            # 輸出完整元組\n",
    "print(tuple[0])         # 輸出元組的第一個元素\n",
    "print(tuple[1:3])       # 輸出第二個至第四個（不包含）的元素 \n",
    "print(tuple[2:])        # 輸出從第三個開始至列表末尾的所有元素\n",
    "print(tinytuple*2)      # 輸出元組兩次\n",
    "print(tuple+tinytuple)  # 列印組合的元組"
   ]
  },
  {
   "cell_type": "markdown",
   "metadata": {},
   "source": [
    "### Python 字典\n",
    "字典(dictionary)是除列表以外python之中最靈活的內置數據結構類型。列表是有序的對象集合，字典是無序的對象集合。\n",
    "\n",
    "兩者之間的區別在於：字典當中的元素是通過鍵來存取的，而不是通過偏移存取。\n",
    "\n",
    "字典用\"{ }\"標識。字典由索引(key)和它對應的值value組成。"
   ]
  },
  {
   "cell_type": "code",
   "execution_count": 5,
   "metadata": {},
   "outputs": [
    {
     "name": "stdout",
     "output_type": "stream",
     "text": [
      "This is one\n",
      "This is two\n",
      "{'name': 'runoob', 'code': 6734, 'dept': 'sales'}\n",
      "dict_keys(['name', 'code', 'dept'])\n",
      "dict_values(['runoob', 6734, 'sales'])\n"
     ]
    }
   ],
   "source": [
    "dict = {}\n",
    "dict['one'] = \"This is one\"\n",
    "dict[2] = \"This is two\"\n",
    " \n",
    "tinydict = {'name': 'runoob','code':6734, 'dept': 'sales'}\n",
    " \n",
    " \n",
    "print(dict['one'])          # 输出键为'one' 的值\n",
    "print(dict[2])              # 输出键为 2 的值\n",
    "print(tinydict)             # 输出完整的字典\n",
    "print(tinydict.keys())      # 输出所有键\n",
    "print(tinydict.values())    # 输出所有值)"
   ]
  },
  {
   "cell_type": "markdown",
   "metadata": {},
   "source": [
    "## Python數據類型轉換\n",
    "有時候，我們需要對數據內置的類型進行轉換，數據類型的轉換，你只需要將數據類型作為函數名即可。\n",
    "\n",
    "以下幾個內置的函數可以執行數據類型之間的轉換。這些函數返回一個新的對象，表示轉換的值。"
   ]
  },
  {
   "cell_type": "markdown",
   "metadata": {},
   "source": [
    "|函數|描述|\n",
    "|:--|:--|\n",
    "|int(x [,base])|將x轉換為一個整數|\n",
    "|long(x [,base])|將x轉換為一個長整數|\n",
    "|float(x)|將x轉換到一個浮點數|\n",
    "|complex(real [,imag])|創建一個複數|\n",
    "|str(x)|將物件 x 轉換為字串|\n",
    "|repr(x)|將物件 x 轉換為表示式字串|\n",
    "|eval(str)|用來計算在字串中的有效Python表達式，並返回一個物件|\n",
    "|tuple(s)|將序列 s 轉換為一個元組|\n",
    "|list(s)|將序列 s 轉換為一個清單|\n",
    "|set(s)|轉換為可變集合|\n",
    "|dict(d)|創建一個字典。 d 必須是一個序列 （key，value）元組。|\n",
    "|frozenset(s)|轉換為不可變集合|\n",
    "|chr(x)|將一個整數轉換為一個字元|\n",
    "|unichr(x)|將一個整數轉換為Unicode字元|\n",
    "|ord(x)|將一個字元轉換為它的整數值|\n",
    "|hex(x)|將一個整數轉換為一個十六進位字串|\n",
    "|oct(x)|將一個整數轉換為一個八進位字串|"
   ]
  }
 ],
 "metadata": {
  "kernelspec": {
   "display_name": "Python 3.10.5 64-bit",
   "language": "python",
   "name": "python3"
  },
  "language_info": {
   "codemirror_mode": {
    "name": "ipython",
    "version": 3
   },
   "file_extension": ".py",
   "mimetype": "text/x-python",
   "name": "python",
   "nbconvert_exporter": "python",
   "pygments_lexer": "ipython3",
   "version": "3.10.5"
  },
  "orig_nbformat": 4,
  "vscode": {
   "interpreter": {
    "hash": "2131068c6602f9a2430d453783c1149b47516f746aa067996ffda6dc716d949b"
   }
  }
 },
 "nbformat": 4,
 "nbformat_minor": 2
}
